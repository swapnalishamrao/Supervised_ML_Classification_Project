{
  "nbformat": 4,
  "nbformat_minor": 0,
  "metadata": {
    "colab": {
      "provenance": [],
      "authorship_tag": "ABX9TyOmL4nPbnN6oE+y6eP56r+3",
      "include_colab_link": true
    },
    "kernelspec": {
      "name": "python3",
      "display_name": "Python 3"
    },
    "language_info": {
      "name": "python"
    }
  },
  "cells": [
    {
      "cell_type": "markdown",
      "metadata": {
        "id": "view-in-github",
        "colab_type": "text"
      },
      "source": [
        "<a href=\"https://colab.research.google.com/github/swapnalishamrao/Supervised_ML_Classification_Project/blob/main/Supervised_ML_Classification_Project.ipynb\" target=\"_parent\"><img src=\"https://colab.research.google.com/assets/colab-badge.svg\" alt=\"Open In Colab\"/></a>"
      ]
    },
    {
      "cell_type": "markdown",
      "source": [
        "# <font size='8px'><font color='indigo'><u>**Airline_Passenger_Referral_Prediction**"
      ],
      "metadata": {
        "id": "hPl5e7WWI360"
      }
    },
    {
      "cell_type": "markdown",
      "source": [
        "##### **Project Type**    - Supervised ML Classification\n",
        "##### **Contribution**    - Individual\n",
        "##### **Name**            - Swapnali Shamrao Mane"
      ],
      "metadata": {
        "id": "GOpGcXfVI9rX"
      }
    },
    {
      "cell_type": "markdown",
      "source": [
        "# <font size='6px'><font color='red'><u>**Project Summary & Technical Documentation-**"
      ],
      "metadata": {
        "id": "XqHLVzrfJAAN"
      }
    },
    {
      "cell_type": "markdown",
      "source": [
        "Air travel changed the world by connecting people globally in record time, making it a standout invention of the 1900s. Its main strength, speed, turned it into an essential way to transport both goods and people.\n",
        "\n",
        "In the fast-paced world of air travel, where making passengers happy is crucial, airlines need to predict which passengers will recommend them to others. Knowing which passengers are likely to tell their friends and networks about an airline can significantly improve customer satisfaction and increase profits.\n",
        "\n",
        "###**Steps**:\n",
        "\n",
        " **Getting Data**\n",
        "\n",
        " **Cleaning & Preprocessing Data**:\n",
        "\n",
        " This involves fixing missing information, handling extreme values, and making data easier to use for analysis.\n",
        "\n",
        " **Exploring Data Analysis(EDA)**:\n",
        "\n",
        "  This means looking at the data using different graphs and charts.\n",
        "\n",
        "**Dividing the Data**:\n",
        "\n",
        "Splitting it into parts for training and testing.\n",
        "\n",
        "**Choosing Models and Hyperparameter Tuning**:\n",
        "\n",
        "To make accurate predictions, various classification models are used, such as Logistic Regression, Random Forests, and Support Vector Machines (SVM). . Ensuring model reliability, hyperparameter tuning is performed to optimize performance and mitigate overfitting of these models helps make them work better.\n",
        "\n",
        "**Measuring Performance**:\n",
        "\n",
        " This focuses on metrics that tell how well the models work. The most important is Recall, followed by Accuracy and ROC AUC. These metrics show how well the models can correctly identify passengers who will recommend airlines. This is essential for making customer-focused strategies."
      ],
      "metadata": {
        "id": "va_X4IqlJC1N"
      }
    }
  ]
}