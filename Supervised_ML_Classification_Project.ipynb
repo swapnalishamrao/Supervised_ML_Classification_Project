{
  "nbformat": 4,
  "nbformat_minor": 0,
  "metadata": {
    "colab": {
      "provenance": [],
      "authorship_tag": "ABX9TyMr3BAdCbWj1MftKZel/PWr",
      "include_colab_link": true
    },
    "kernelspec": {
      "name": "python3",
      "display_name": "Python 3"
    },
    "language_info": {
      "name": "python"
    }
  },
  "cells": [
    {
      "cell_type": "markdown",
      "metadata": {
        "id": "view-in-github",
        "colab_type": "text"
      },
      "source": [
        "<a href=\"https://colab.research.google.com/github/swapnalishamrao/Supervised_ML_Classification_Project/blob/main/Supervised_ML_Classification_Project.ipynb\" target=\"_parent\"><img src=\"https://colab.research.google.com/assets/colab-badge.svg\" alt=\"Open In Colab\"/></a>"
      ]
    },
    {
      "cell_type": "markdown",
      "source": [
        "# <font size='8px'><font color='indigo'><u>**Airline_Passenger_Referral_Prediction**"
      ],
      "metadata": {
        "id": "hPl5e7WWI360"
      }
    },
    {
      "cell_type": "markdown",
      "source": [
        "##### **Project Type**    - Supervised ML Classification\n",
        "##### **Contribution**    - Individual\n",
        "##### **Name**            - Swapnali Shamrao Mane"
      ],
      "metadata": {
        "id": "GOpGcXfVI9rX"
      }
    },
    {
      "cell_type": "markdown",
      "source": [
        "# <font size='6px'><font color='red'><u>**Project Summary & Technical Documentation-**"
      ],
      "metadata": {
        "id": "XqHLVzrfJAAN"
      }
    },
    {
      "cell_type": "markdown",
      "source": [
        "Air travel changed the world by connecting people globally in record time, making it a standout invention of the 1900s. Its main strength, speed, turned it into an essential way to transport both goods and people.\n",
        "\n",
        "In the fast-paced world of air travel, where making passengers happy is crucial, airlines need to predict which passengers will recommend them to others. Knowing which passengers are likely to tell their friends and networks about an airline can significantly improve customer satisfaction and increase profits.\n",
        "\n",
        "###**Steps**:\n",
        "\n",
        " **Getting Data**\n",
        "\n",
        " **Cleaning & Preprocessing Data**:\n",
        "\n",
        " This involves fixing missing information, handling extreme values, and making data easier to use for analysis.\n",
        "\n",
        " **Exploring Data Analysis(EDA)**:\n",
        "\n",
        "  This means looking at the data using different graphs and charts.\n",
        "\n",
        "**Dividing the Data**:\n",
        "\n",
        "Splitting it into parts for training and testing.\n",
        "\n",
        "**Choosing Models and Hyperparameter Tuning**:\n",
        "\n",
        "To make accurate predictions, various classification models are used, such as Logistic Regression, Random Forests, and Support Vector Machines (SVM). . Ensuring model reliability, hyperparameter tuning is performed to optimize performance and mitigate overfitting of these models helps make them work better.\n",
        "\n",
        "**Measuring Performance**:\n",
        "\n",
        " This focuses on metrics that tell how well the models work. The most important is Recall, followed by Accuracy and ROC AUC. These metrics show how well the models can correctly identify passengers who will recommend airlines. This is essential for making customer-focused strategies."
      ],
      "metadata": {
        "id": "va_X4IqlJC1N"
      }
    },
    {
      "cell_type": "markdown",
      "source": [
        "#<font size='4px'><font color='3971'><u> **GitHub Link -**"
      ],
      "metadata": {
        "id": "7uv4VyMZQCwz"
      }
    },
    {
      "cell_type": "markdown",
      "source": [
        "[GitHub Link](https://github.com/swapnalishamrao/Supervised_ML_Classification_Project)"
      ],
      "metadata": {
        "id": "sBRpNK7_QF38"
      }
    },
    {
      "cell_type": "markdown",
      "source": [
        "# <font size='6px'><font color='paintgray'><u>**Problem Statement-**"
      ],
      "metadata": {
        "id": "1cF7Y1HEQKeS"
      }
    },
    {
      "cell_type": "markdown",
      "source": [
        "\n",
        "In the competitive airline industry, pleasing customers and keeping them loyal is crucial for success. Airlines are always looking for new ways to make passengers happier and improve their reputation. One big challenge is figuring out which passengers are likely to recommend the airline to others.\n",
        "\n",
        "The goal is to create a model that can predict which passengers will refer the airline to their friends. This model will help airlines:\n",
        "\n",
        "  -Make customers happier\n",
        "\n",
        "  -Make more money\n",
        "\n",
        "  -Advertise more effectively\n",
        "\n",
        "  -Provide better service\n",
        "Stay ahead of the competition\n",
        "\n"
      ],
      "metadata": {
        "id": "G4nmVWa9QOfK"
      }
    },
    {
      "cell_type": "markdown",
      "source": [
        "# <font size='6px'><font color='indi'>***Let's Begin !***"
      ],
      "metadata": {
        "id": "auGgYAZgQYTP"
      }
    },
    {
      "cell_type": "markdown",
      "source": [
        "## ***1. Know Your Data***"
      ],
      "metadata": {
        "id": "47cEYwwnQawN"
      }
    },
    {
      "cell_type": "markdown",
      "source": [
        "## <font size='5px'><font color='indigo'>**Importing Library and connecting drive**"
      ],
      "metadata": {
        "id": "897f7rNoQdHu"
      }
    },
    {
      "cell_type": "code",
      "source": [
        "# Import Libraries\n",
        "import numpy as np\n",
        "import pandas as pd\n",
        "import matplotlib.pyplot as plt\n",
        "import seaborn as sns\n",
        "from scipy import stats\n",
        "import warnings\n",
        "warnings.filterwarnings('ignore')\n",
        "warnings.simplefilter('ignore')\n",
        "\n",
        "# Importing all models from sklearn to be used in model building\n",
        "from sklearn.linear_model import LogisticRegression\n",
        "from sklearn.ensemble import RandomForestClassifier\n",
        "from sklearn.neighbors import KNeighborsClassifier\n",
        "from sklearn.preprocessing import LabelEncoder\n",
        "from sklearn.svm import SVC\n",
        "\n",
        "from sklearn import model_selection\n",
        "from sklearn.model_selection import train_test_split\n",
        "from sklearn.model_selection import cross_val_score\n",
        "from sklearn.model_selection import GridSearchCV\n",
        "from sklearn.svm import LinearSVC\n",
        "from statsmodels.stats.outliers_influence import variance_inflation_factor\n",
        "\n",
        "# Importing  metrics for evaluation of models\n",
        "from sklearn import metrics\n",
        "from sklearn.metrics import classification_report,confusion_matrix\n",
        "from sklearn.metrics import accuracy_score,precision_score\n",
        "from sklearn.metrics import recall_score,f1_score,roc_curve, roc_auc_score"
      ],
      "metadata": {
        "id": "7DbFMsubQgce"
      },
      "execution_count": 1,
      "outputs": []
    }
  ]
}